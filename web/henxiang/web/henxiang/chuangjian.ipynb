{
 "cells": [
  {
   "cell_type": "code",
   "execution_count": 2,
   "metadata": {},
   "outputs": [],
   "source": [
    "import os\n",
    "import shutil\n"
   ]
  },
  {
   "cell_type": "code",
   "execution_count": 4,
   "metadata": {},
   "outputs": [
    {
     "name": "stdout",
     "output_type": "stream",
     "text": [
      "成功创建了 10 个HTML文件在 ../henxiang 目录下.\n"
     ]
    }
   ],
   "source": [
    "# 指定模板文件的路径\n",
    "template_file_path = './sample.html'\n",
    "\n",
    "# 指定要生成的文件的数量\n",
    "num_files = 10\n",
    "\n",
    "# 指定生成文件的目录\n",
    "output_dir = '../henxiang'\n",
    "\n",
    "# 确保输出目录存在\n",
    "os.makedirs(output_dir, exist_ok=True)\n",
    "\n",
    "# 创建并复制到新的HTML文件\n",
    "for i in range(1991,2020):\n",
    "    # 指定新文件的路径\n",
    "    new_file_path = os.path.join(output_dir, f'hx{i}.html')\n",
    "\n",
    "    # 复制模板文件到新文件\n",
    "    shutil.copyfile(template_file_path, new_file_path)\n",
    "\n",
    "print(f'成功创建了 {num_files} 个HTML文件在 {output_dir} 目录下.')\n"
   ]
  }
 ],
 "metadata": {
  "kernelspec": {
   "display_name": "base",
   "language": "python",
   "name": "python3"
  },
  "language_info": {
   "codemirror_mode": {
    "name": "ipython",
    "version": 3
   },
   "file_extension": ".py",
   "mimetype": "text/x-python",
   "name": "python",
   "nbconvert_exporter": "python",
   "pygments_lexer": "ipython3",
   "version": "3.6.5"
  },
  "orig_nbformat": 4
 },
 "nbformat": 4,
 "nbformat_minor": 2
}
